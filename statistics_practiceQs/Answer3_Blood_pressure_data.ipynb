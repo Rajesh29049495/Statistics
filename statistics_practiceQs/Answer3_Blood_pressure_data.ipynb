{
 "cells": [
  {
   "cell_type": "code",
   "execution_count": 1,
   "id": "b63cd47d",
   "metadata": {},
   "outputs": [],
   "source": [
    "import pandas as pd\n",
    "import numpy as np\n",
    "import seaborn as sns\n",
    "import matplotlib.pyplot as plt\n",
    "%matplotlib inline\n",
    "\n",
    "import requests"
   ]
  },
  {
   "cell_type": "code",
   "execution_count": 2,
   "id": "aa267bbc",
   "metadata": {},
   "outputs": [],
   "source": [
    "df = pd.read_csv(\"C:\\\\Users\\\\Rajesh Singh\\\\Downloads\\\\data.csv\")"
   ]
  },
  {
   "cell_type": "code",
   "execution_count": 3,
   "id": "9c4a9517",
   "metadata": {},
   "outputs": [
    {
     "data": {
      "text/html": [
       "<div>\n",
       "<style scoped>\n",
       "    .dataframe tbody tr th:only-of-type {\n",
       "        vertical-align: middle;\n",
       "    }\n",
       "\n",
       "    .dataframe tbody tr th {\n",
       "        vertical-align: top;\n",
       "    }\n",
       "\n",
       "    .dataframe thead th {\n",
       "        text-align: right;\n",
       "    }\n",
       "</style>\n",
       "<table border=\"1\" class=\"dataframe\">\n",
       "  <thead>\n",
       "    <tr style=\"text-align: right;\">\n",
       "      <th></th>\n",
       "      <th>Patient ID</th>\n",
       "      <th>Blood Pressure Before (mmHg)</th>\n",
       "      <th>Blood Pressure After (mmHg)</th>\n",
       "    </tr>\n",
       "  </thead>\n",
       "  <tbody>\n",
       "    <tr>\n",
       "      <th>0</th>\n",
       "      <td>1</td>\n",
       "      <td>130</td>\n",
       "      <td>120</td>\n",
       "    </tr>\n",
       "    <tr>\n",
       "      <th>1</th>\n",
       "      <td>2</td>\n",
       "      <td>142</td>\n",
       "      <td>135</td>\n",
       "    </tr>\n",
       "    <tr>\n",
       "      <th>2</th>\n",
       "      <td>3</td>\n",
       "      <td>120</td>\n",
       "      <td>118</td>\n",
       "    </tr>\n",
       "    <tr>\n",
       "      <th>3</th>\n",
       "      <td>4</td>\n",
       "      <td>135</td>\n",
       "      <td>127</td>\n",
       "    </tr>\n",
       "    <tr>\n",
       "      <th>4</th>\n",
       "      <td>5</td>\n",
       "      <td>148</td>\n",
       "      <td>140</td>\n",
       "    </tr>\n",
       "    <tr>\n",
       "      <th>...</th>\n",
       "      <td>...</td>\n",
       "      <td>...</td>\n",
       "      <td>...</td>\n",
       "    </tr>\n",
       "    <tr>\n",
       "      <th>95</th>\n",
       "      <td>96</td>\n",
       "      <td>136</td>\n",
       "      <td>129</td>\n",
       "    </tr>\n",
       "    <tr>\n",
       "      <th>96</th>\n",
       "      <td>97</td>\n",
       "      <td>143</td>\n",
       "      <td>137</td>\n",
       "    </tr>\n",
       "    <tr>\n",
       "      <th>97</th>\n",
       "      <td>98</td>\n",
       "      <td>127</td>\n",
       "      <td>123</td>\n",
       "    </tr>\n",
       "    <tr>\n",
       "      <th>98</th>\n",
       "      <td>99</td>\n",
       "      <td>139</td>\n",
       "      <td>135</td>\n",
       "    </tr>\n",
       "    <tr>\n",
       "      <th>99</th>\n",
       "      <td>100</td>\n",
       "      <td>135</td>\n",
       "      <td>130</td>\n",
       "    </tr>\n",
       "  </tbody>\n",
       "</table>\n",
       "<p>100 rows × 3 columns</p>\n",
       "</div>"
      ],
      "text/plain": [
       "    Patient ID   Blood Pressure Before (mmHg)   Blood Pressure After (mmHg)\n",
       "0            1                            130                           120\n",
       "1            2                            142                           135\n",
       "2            3                            120                           118\n",
       "3            4                            135                           127\n",
       "4            5                            148                           140\n",
       "..         ...                            ...                           ...\n",
       "95          96                            136                           129\n",
       "96          97                            143                           137\n",
       "97          98                            127                           123\n",
       "98          99                            139                           135\n",
       "99         100                            135                           130\n",
       "\n",
       "[100 rows x 3 columns]"
      ]
     },
     "execution_count": 3,
     "metadata": {},
     "output_type": "execute_result"
    }
   ],
   "source": [
    "df"
   ]
  },
  {
   "cell_type": "markdown",
   "id": "d9bab9b8",
   "metadata": {},
   "source": [
    "## a. . Measure the dispersion in both and interpret the results."
   ]
  },
  {
   "cell_type": "code",
   "execution_count": 5,
   "id": "6a703864",
   "metadata": {},
   "outputs": [
    {
     "data": {
      "text/html": [
       "<div>\n",
       "<style scoped>\n",
       "    .dataframe tbody tr th:only-of-type {\n",
       "        vertical-align: middle;\n",
       "    }\n",
       "\n",
       "    .dataframe tbody tr th {\n",
       "        vertical-align: top;\n",
       "    }\n",
       "\n",
       "    .dataframe thead th {\n",
       "        text-align: right;\n",
       "    }\n",
       "</style>\n",
       "<table border=\"1\" class=\"dataframe\">\n",
       "  <thead>\n",
       "    <tr style=\"text-align: right;\">\n",
       "      <th></th>\n",
       "      <th>Patient ID</th>\n",
       "      <th>Blood Pressure Before (mmHg)</th>\n",
       "      <th>Blood Pressure After (mmHg)</th>\n",
       "    </tr>\n",
       "  </thead>\n",
       "  <tbody>\n",
       "    <tr>\n",
       "      <th>count</th>\n",
       "      <td>100.000000</td>\n",
       "      <td>100.000000</td>\n",
       "      <td>100.000000</td>\n",
       "    </tr>\n",
       "    <tr>\n",
       "      <th>mean</th>\n",
       "      <td>50.500000</td>\n",
       "      <td>133.910000</td>\n",
       "      <td>128.360000</td>\n",
       "    </tr>\n",
       "    <tr>\n",
       "      <th>std</th>\n",
       "      <td>29.011492</td>\n",
       "      <td>6.598278</td>\n",
       "      <td>6.888022</td>\n",
       "    </tr>\n",
       "    <tr>\n",
       "      <th>min</th>\n",
       "      <td>1.000000</td>\n",
       "      <td>120.000000</td>\n",
       "      <td>118.000000</td>\n",
       "    </tr>\n",
       "    <tr>\n",
       "      <th>25%</th>\n",
       "      <td>25.750000</td>\n",
       "      <td>128.000000</td>\n",
       "      <td>123.000000</td>\n",
       "    </tr>\n",
       "    <tr>\n",
       "      <th>50%</th>\n",
       "      <td>50.500000</td>\n",
       "      <td>135.000000</td>\n",
       "      <td>128.000000</td>\n",
       "    </tr>\n",
       "    <tr>\n",
       "      <th>75%</th>\n",
       "      <td>75.250000</td>\n",
       "      <td>139.250000</td>\n",
       "      <td>135.000000</td>\n",
       "    </tr>\n",
       "    <tr>\n",
       "      <th>max</th>\n",
       "      <td>100.000000</td>\n",
       "      <td>148.000000</td>\n",
       "      <td>141.000000</td>\n",
       "    </tr>\n",
       "  </tbody>\n",
       "</table>\n",
       "</div>"
      ],
      "text/plain": [
       "       Patient ID   Blood Pressure Before (mmHg)   Blood Pressure After (mmHg)\n",
       "count  100.000000                     100.000000                    100.000000\n",
       "mean    50.500000                     133.910000                    128.360000\n",
       "std     29.011492                       6.598278                      6.888022\n",
       "min      1.000000                     120.000000                    118.000000\n",
       "25%     25.750000                     128.000000                    123.000000\n",
       "50%     50.500000                     135.000000                    128.000000\n",
       "75%     75.250000                     139.250000                    135.000000\n",
       "max    100.000000                     148.000000                    141.000000"
      ]
     },
     "execution_count": 5,
     "metadata": {},
     "output_type": "execute_result"
    }
   ],
   "source": [
    "df.describe()"
   ]
  },
  {
   "cell_type": "markdown",
   "id": "821c1da1",
   "metadata": {},
   "source": [
    "### Blood Pressure Before (mmHg)"
   ]
  },
  {
   "cell_type": "markdown",
   "id": "4aac15ec",
   "metadata": {},
   "source": [
    "**range**"
   ]
  },
  {
   "cell_type": "code",
   "execution_count": 15,
   "id": "097066b1",
   "metadata": {},
   "outputs": [
    {
     "data": {
      "text/plain": [
       "148"
      ]
     },
     "execution_count": 15,
     "metadata": {},
     "output_type": "execute_result"
    }
   ],
   "source": [
    "#Range of \"Blood Pressure Before (mmHg)\"\n",
    "df[\" Blood Pressure Before (mmHg)\"].max()"
   ]
  },
  {
   "cell_type": "code",
   "execution_count": 16,
   "id": "aa95b998",
   "metadata": {},
   "outputs": [
    {
     "data": {
      "text/plain": [
       "120"
      ]
     },
     "execution_count": 16,
     "metadata": {},
     "output_type": "execute_result"
    }
   ],
   "source": [
    "df[\" Blood Pressure Before (mmHg)\"].min()"
   ]
  },
  {
   "cell_type": "code",
   "execution_count": 19,
   "id": "24b2c61b",
   "metadata": {},
   "outputs": [],
   "source": [
    "Range_BP_before = df[\" Blood Pressure Before (mmHg)\"].max()- df[\" Blood Pressure Before (mmHg)\"].min()"
   ]
  },
  {
   "cell_type": "code",
   "execution_count": 20,
   "id": "ae1a3088",
   "metadata": {},
   "outputs": [
    {
     "data": {
      "text/plain": [
       "28"
      ]
     },
     "execution_count": 20,
     "metadata": {},
     "output_type": "execute_result"
    }
   ],
   "source": [
    "Range_BP_before"
   ]
  },
  {
   "cell_type": "markdown",
   "id": "9fda5af7",
   "metadata": {},
   "source": [
    "**Variance**"
   ]
  },
  {
   "cell_type": "code",
   "execution_count": 21,
   "id": "257e912e",
   "metadata": {},
   "outputs": [
    {
     "data": {
      "text/plain": [
       "43.53727272727271"
      ]
     },
     "execution_count": 21,
     "metadata": {},
     "output_type": "execute_result"
    }
   ],
   "source": [
    "df[\" Blood Pressure Before (mmHg)\"].var()"
   ]
  },
  {
   "cell_type": "markdown",
   "id": "8f493618",
   "metadata": {},
   "source": [
    "**Standard deviation**"
   ]
  },
  {
   "cell_type": "code",
   "execution_count": 22,
   "id": "2a9a6b61",
   "metadata": {},
   "outputs": [
    {
     "data": {
      "text/plain": [
       "6.598278012275075"
      ]
     },
     "execution_count": 22,
     "metadata": {},
     "output_type": "execute_result"
    }
   ],
   "source": [
    "df[\" Blood Pressure Before (mmHg)\"].std()"
   ]
  },
  {
   "cell_type": "markdown",
   "id": "a12527b4",
   "metadata": {},
   "source": [
    "### Blood Pressure After (mmHg)"
   ]
  },
  {
   "cell_type": "markdown",
   "id": "ae76dc69",
   "metadata": {},
   "source": [
    "**range**"
   ]
  },
  {
   "cell_type": "code",
   "execution_count": 24,
   "id": "4486163c",
   "metadata": {},
   "outputs": [
    {
     "data": {
      "text/plain": [
       "141"
      ]
     },
     "execution_count": 24,
     "metadata": {},
     "output_type": "execute_result"
    }
   ],
   "source": [
    "#Range of \"Blood Pressure Before (mmHg)\"\n",
    "df[\" Blood Pressure After (mmHg)\"].max()"
   ]
  },
  {
   "cell_type": "code",
   "execution_count": 25,
   "id": "9e9cbcb6",
   "metadata": {},
   "outputs": [
    {
     "data": {
      "text/plain": [
       "118"
      ]
     },
     "execution_count": 25,
     "metadata": {},
     "output_type": "execute_result"
    }
   ],
   "source": [
    "df[\" Blood Pressure After (mmHg)\"].min()"
   ]
  },
  {
   "cell_type": "code",
   "execution_count": 26,
   "id": "ea6111cc",
   "metadata": {},
   "outputs": [],
   "source": [
    "Range_BP_after = df[\" Blood Pressure After (mmHg)\"].max()- df[\" Blood Pressure After (mmHg)\"].min()"
   ]
  },
  {
   "cell_type": "code",
   "execution_count": 27,
   "id": "4becd917",
   "metadata": {},
   "outputs": [
    {
     "data": {
      "text/plain": [
       "23"
      ]
     },
     "execution_count": 27,
     "metadata": {},
     "output_type": "execute_result"
    }
   ],
   "source": [
    "Range_BP_after"
   ]
  },
  {
   "cell_type": "code",
   "execution_count": null,
   "id": "f38b7ad7",
   "metadata": {},
   "outputs": [],
   "source": [
    "**Variance**"
   ]
  },
  {
   "cell_type": "code",
   "execution_count": 28,
   "id": "f127af3f",
   "metadata": {},
   "outputs": [
    {
     "data": {
      "text/plain": [
       "47.4448484848485"
      ]
     },
     "execution_count": 28,
     "metadata": {},
     "output_type": "execute_result"
    }
   ],
   "source": [
    "df[\" Blood Pressure After (mmHg)\"].var()"
   ]
  },
  {
   "cell_type": "code",
   "execution_count": null,
   "id": "be1083f6",
   "metadata": {},
   "outputs": [],
   "source": [
    "**Standard deviation**"
   ]
  },
  {
   "cell_type": "code",
   "execution_count": 29,
   "id": "173b79c6",
   "metadata": {},
   "outputs": [
    {
     "data": {
      "text/plain": [
       "6.8880221025232276"
      ]
     },
     "execution_count": 29,
     "metadata": {},
     "output_type": "execute_result"
    }
   ],
   "source": [
    "df[\" Blood Pressure After (mmHg)\"].std()"
   ]
  },
  {
   "cell_type": "markdown",
   "id": "853bb84e",
   "metadata": {},
   "source": [
    "## b. Calculate mean and 5% confidence interval and plot it in a graph\n"
   ]
  },
  {
   "cell_type": "code",
   "execution_count": 31,
   "id": "f0a686fa",
   "metadata": {},
   "outputs": [
    {
     "name": "stdout",
     "output_type": "stream",
     "text": [
      "Mean: 133.91\n",
      "Confidence Interval: (132.60075849172767, 135.21924150827232)\n"
     ]
    }
   ],
   "source": [
    "import scipy.stats as stats\n",
    "\n",
    "column_data = df[' Blood Pressure Before (mmHg)']\n",
    "mean = column_data.mean()\n",
    "confidence_interval = stats.t.interval(0.95, len(column_data)-1, loc=mean, scale=stats.sem(column_data))    ##`0.95` iss the confidence level, `len(column_data)-1` is dof, `loc = mean` sets location parameter of the interval, which is mean value, it represents center of the confidence interval, `scale= stats.sem(column_data) This parameter sets the scale parameter of the interval, which is the standard error of the mean (SEM). \n",
    "\n",
    "print(\"Mean:\", mean)\n",
    "print(\"Confidence Interval:\", confidence_interval)"
   ]
  },
  {
   "cell_type": "code",
   "execution_count": 32,
   "id": "df59697f",
   "metadata": {},
   "outputs": [
    {
     "data": {
      "image/png": "[encoded data removed]",
      "text/plain": [
       "<Figure size 432x288 with 1 Axes>"
      ]
     },
     "metadata": {
      "needs_background": "light"
     },
     "output_type": "display_data"
    }
   ],
   "source": [
    "plt.bar(0, mean, yerr=(confidence_interval[1] - mean), color='blue', alpha=0.5)\n",
    "plt.xticks([])\n",
    "plt.ylabel(' Blood Pressure Before (mmHg)')\n",
    "plt.title('Mean and 95% Confidence Interval')\n",
    "plt.show()"
   ]
  },
  {
   "cell_type": "code",
   "execution_count": 33,
   "id": "806d4a00",
   "metadata": {},
   "outputs": [
    {
     "name": "stdout",
     "output_type": "stream",
     "text": [
      "Mean: 128.36\n",
      "Confidence Interval: (126.99326697818071, 129.7267330218193)\n"
     ]
    }
   ],
   "source": [
    "import scipy.stats as stats\n",
    "\n",
    "column_data = df[' Blood Pressure After (mmHg)']\n",
    "mean = column_data.mean()\n",
    "confidence_interval = stats.t.interval(0.95, len(column_data)-1, loc=mean, scale=stats.sem(column_data))    ##`0.95` iss the confidence level, `len(column_data)-1` is dof, `loc = mean` sets location parameter of the interval, which is mean value, it represents center of the confidence interval, `scale= stats.sem(column_data) This parameter sets the scale parameter of the interval, which is the standard error of the mean (SEM). \n",
    "\n",
    "print(\"Mean:\", mean)\n",
    "print(\"Confidence Interval:\", confidence_interval)"
   ]
  },
  {
   "cell_type": "code",
   "execution_count": 34,
   "id": "f43e98b7",
   "metadata": {},
   "outputs": [
    {
     "data": {
      "image/png": "[encoded data removed]",
      "text/plain": [
       "<Figure size 432x288 with 1 Axes>"
      ]
     },
     "metadata": {
      "needs_background": "light"
     },
     "output_type": "display_data"
    }
   ],
   "source": [
    "plt.bar(0, mean, yerr=(confidence_interval[1] - mean), color='blue', alpha=0.5)\n",
    "plt.xticks([])\n",
    "plt.ylabel(' Blood Pressure After (mmHg)')\n",
    "plt.title('Mean and 95% Confidence Interval')\n",
    "plt.show()"
   ]
  },
  {
   "cell_type": "markdown",
   "id": "d6703f3b",
   "metadata": {},
   "source": [
    "## c. Calculate the Mean absolute deviation and Standard deviation and interpret the results.\n"
   ]
  },
  {
   "cell_type": "markdown",
   "id": "2a1e8013",
   "metadata": {},
   "source": [
    "* **Mean Absolute Deviation (MAD)**: The MAD gives you an idea of the average deviation of data points from the mean. A larger MAD indicates higher variability in the dataset, meaning that the data points are more spread out from the mean.\n",
    "* **Standard Deviation (SD)**: The standard deviation provides a measure of the dispersion of data points from the mean. A larger standard deviation indicates a wider spread of data points, suggesting greater variability in the dataset.\n",
    "\n"
   ]
  },
  {
   "cell_type": "code",
   "execution_count": 35,
   "id": "1713fd6a",
   "metadata": {},
   "outputs": [
    {
     "name": "stdout",
     "output_type": "stream",
     "text": [
      "Mean Absolute Deviation (MAD): 5.7118\n",
      "Standard Deviation (SD): 6.5652037287505385\n"
     ]
    }
   ],
   "source": [
    "data = df[' Blood Pressure Before (mmHg)']\n",
    "\n",
    "# Mean Absolute Deviation (MAD)\n",
    "mad = np.mean(np.abs(data - np.mean(data)))\n",
    "\n",
    "# Standard Deviation (SD)\n",
    "sd = np.std(data)\n",
    "\n",
    "print(\"Mean Absolute Deviation (MAD):\", mad)\n",
    "print(\"Standard Deviation (SD):\", sd)"
   ]
  },
  {
   "cell_type": "code",
   "execution_count": 36,
   "id": "6e16c351",
   "metadata": {},
   "outputs": [
    {
     "name": "stdout",
     "output_type": "stream",
     "text": [
      "Mean Absolute Deviation (MAD): 5.9\n",
      "Standard Deviation (SD): 6.853495458523338\n"
     ]
    }
   ],
   "source": [
    "data = df[' Blood Pressure After (mmHg)']\n",
    "\n",
    "# Mean Absolute Deviation (MAD)\n",
    "mad = np.mean(np.abs(data - np.mean(data)))\n",
    "\n",
    "# Standard Deviation (SD)\n",
    "sd = np.std(data)\n",
    "\n",
    "print(\"Mean Absolute Deviation (MAD):\", mad)\n",
    "print(\"Standard Deviation (SD):\", sd)"
   ]
  },
  {
   "cell_type": "markdown",
   "id": "f69825c9",
   "metadata": {},
   "source": [
    "## d. . Calculate the correlation coefficient and check the significance of it at 1% level of significance."
   ]
  },
  {
   "cell_type": "code",
   "execution_count": 37,
   "id": "645c6c56",
   "metadata": {},
   "outputs": [
    {
     "name": "stdout",
     "output_type": "stream",
     "text": [
      "Correlation coefficient: 0.9779485966556021\n",
      "p-value: 1.8097381433059864e-68\n",
      "The correlation is significant at the 1% level.\n"
     ]
    }
   ],
   "source": [
    "from scipy.stats import pearsonr\n",
    "\n",
    "data1 = df[' Blood Pressure Before (mmHg)']\n",
    "data2 = df[' Blood Pressure After (mmHg)']\n",
    "\n",
    "# Calculate the correlation coefficient and p-value\n",
    "correlation, p_value = pearsonr(data1, data2)\n",
    "\n",
    "print(\"Correlation coefficient:\", correlation)\n",
    "print(\"p-value:\", p_value)\n",
    "\n",
    "# Check significance at 1% level\n",
    "if p_value < 0.01:\n",
    "    print(\"The correlation is significant at the 1% level.\")\n",
    "else:\n",
    "    print(\"The correlation is not significant at the 1% level.\")"
   ]
  },
  {
   "cell_type": "code",
   "execution_count": null,
   "id": "c980f2fc",
   "metadata": {},
   "outputs": [],
   "source": []
  }
 ],
 "metadata": {
  "kernelspec": {
   "display_name": "Python 3 (ipykernel)",
   "language": "python",
   "name": "python3"
  },
  "language_info": {
   "codemirror_mode": {
    "name": "ipython",
    "version": 3
   },
   "file_extension": ".py",
   "mimetype": "text/x-python",
   "name": "python",
   "nbconvert_exporter": "python",
   "pygments_lexer": "ipython3",
   "version": "3.9.12"
  }
 },
 "nbformat": 4,
 "nbformat_minor": 5
}

{
 "cells": [
  {
   "cell_type": "code",
   "execution_count": 1,
   "id": "e5b7ab4e",
   "metadata": {},
   "outputs": [],
   "source": [
    "import pandas as pd"
   ]
  },
  {
   "cell_type": "code",
   "execution_count": 2,
   "id": "e26629bd",
   "metadata": {},
   "outputs": [],
   "source": [
    "data = {\n",
    "    'Participant': [1, 2, 3, 4, 5, 6, 7, 8, 9, 10],\n",
    "    'Before therapy': [10, 8, 12, 15, 6, 9, 11, 7, 14, 10],\n",
    "    'After therapy': [7, 6, 10, 12, 5, 8, 9, 6, 12, 8],\n",
    "    'Difference': [-3, -2, -2, -3, -1, -1, -2, -1, -2, -2]\n",
    "}"
   ]
  },
  {
   "cell_type": "code",
   "execution_count": 3,
   "id": "a5fd9899",
   "metadata": {},
   "outputs": [],
   "source": [
    "df = pd.DataFrame(data)"
   ]
  },
  {
   "cell_type": "code",
   "execution_count": 4,
   "id": "2c41a0e4",
   "metadata": {},
   "outputs": [
    {
     "name": "stdout",
     "output_type": "stream",
     "text": [
      "Wilcoxon signed-rank test results:\n",
      "Statistic: 0.0\n",
      "P-value: 0.001953125\n"
     ]
    }
   ],
   "source": [
    "from scipy.stats import wilcoxon\n",
    "\n",
    "# Perform Wilcoxon signed-rank test\n",
    "statistic, p_value = wilcoxon(df['Difference'])\n",
    "\n",
    "print(\"Wilcoxon signed-rank test results:\")\n",
    "print(f\"Statistic: {statistic}\")\n",
    "print(f\"P-value: {p_value}\")"
   ]
  },
  {
   "cell_type": "markdown",
   "id": "d342d0f2",
   "metadata": {},
   "source": [
    "* p-value indicates the probability of obtaining a test statistic.\n",
    "* null hypothesis= therapy had no significant effect.\n",
    "* If p value is less than the chosen significance level(e.g. 0.05), we can **reject the null hypothesis and conclude that the therapy had a significant effect on anxiety levels.**"
   ]
  },
  {
   "cell_type": "code",
   "execution_count": null,
   "id": "2e43524d",
   "metadata": {},
   "outputs": [],
   "source": []
  }
 ],
 "metadata": {
  "kernelspec": {
   "display_name": "Python 3 (ipykernel)",
   "language": "python",
   "name": "python3"
  },
  "language_info": {
   "codemirror_mode": {
    "name": "ipython",
    "version": 3
   },
   "file_extension": ".py",
   "mimetype": "text/x-python",
   "name": "python",
   "nbconvert_exporter": "python",
   "pygments_lexer": "ipython3",
   "version": "3.9.12"
  }
 },
 "nbformat": 4,
 "nbformat_minor": 5
}

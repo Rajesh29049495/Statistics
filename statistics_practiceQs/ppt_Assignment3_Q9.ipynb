{
 "cells": [
  {
   "cell_type": "code",
   "execution_count": 1,
   "id": "81404d53",
   "metadata": {},
   "outputs": [],
   "source": [
    "import scipy.stats as stats"
   ]
  },
  {
   "cell_type": "code",
   "execution_count": 2,
   "id": "eb069a73",
   "metadata": {},
   "outputs": [],
   "source": [
    "# Define the data\n",
    "medication_a = [10, 12, 14, 11, 13]\n",
    "medication_b = [15, 17, 16, 14, 18]"
   ]
  },
  {
   "cell_type": "code",
   "execution_count": 3,
   "id": "ae458608",
   "metadata": {},
   "outputs": [],
   "source": [
    "# Perform ANOVA\n",
    "f_statistic, p_value = stats.f_oneway(medication_a, medication_b)"
   ]
  },
  {
   "cell_type": "code",
   "execution_count": 4,
   "id": "05c68a6a",
   "metadata": {},
   "outputs": [
    {
     "name": "stdout",
     "output_type": "stream",
     "text": [
      "F-statistic: 16.0\n",
      "p-value: 0.003949772803445326\n"
     ]
    }
   ],
   "source": [
    "# Print the results\n",
    "print(\"F-statistic:\", f_statistic)\n",
    "print(\"p-value:\", p_value)"
   ]
  },
  {
   "cell_type": "markdown",
   "id": "c8978f5b",
   "metadata": {},
   "source": [
    "considering significance level as 0.05, comparing p-value wit it, as it is less tha 0.05 so we can say **there is significant difference** between the mean recovery times between the two medications"
   ]
  },
  {
   "cell_type": "code",
   "execution_count": null,
   "id": "c15a5d3a",
   "metadata": {},
   "outputs": [],
   "source": []
  }
 ],
 "metadata": {
  "kernelspec": {
   "display_name": "Python 3 (ipykernel)",
   "language": "python",
   "name": "python3"
  },
  "language_info": {
   "codemirror_mode": {
    "name": "ipython",
    "version": 3
   },
   "file_extension": ".py",
   "mimetype": "text/x-python",
   "name": "python",
   "nbconvert_exporter": "python",
   "pygments_lexer": "ipython3",
   "version": "3.10.9"
  }
 },
 "nbformat": 4,
 "nbformat_minor": 5
}

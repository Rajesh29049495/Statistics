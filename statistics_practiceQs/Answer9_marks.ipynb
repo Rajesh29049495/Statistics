{
 "cells": [
  {
   "cell_type": "code",
   "execution_count": null,
   "id": "b2a0eb36",
   "metadata": {},
   "outputs": [],
   "source": [
    "import pandas as pd\n",
    "import numpy as np\n",
    "import seaborn as sns\n",
    "import matplotlib.pyplot as plt\n",
    "%matplotlib inline\n",
    "\n",
    "import requests"
   ]
  },
  {
   "cell_type": "code",
   "execution_count": null,
   "id": "19a92123",
   "metadata": {},
   "outputs": [],
   "source": [
    "data ={\n",
    "    \"Name\": [\"Karan\", \"Deepa\", \"Karthik\", \"Chandan\", \"Jeevan\"],\n",
    "    \"Exam 1\": [85, 70, 90, 75, 95],\n",
    "    \"Exam 2\": [90, 80, 85, 70, 92], \n",
    "    \"Final Exam\":[92, 85, 88, 75, 96]\n",
    "}"
   ]
  },
  {
   "cell_type": "code",
   "execution_count": null,
   "id": "b8546a5c",
   "metadata": {},
   "outputs": [],
   "source": [
    "df = pd.DataFrame(data)"
   ]
  },
  {
   "cell_type": "code",
   "execution_count": null,
   "id": "fc9a1774",
   "metadata": {},
   "outputs": [],
   "source": [
    "df"
   ]
  },
  {
   "cell_type": "markdown",
   "id": "c9ec0a1f",
   "metadata": {},
   "source": [
    "**To test the hypothesis that the mean scores of all the students are the same, we can use a statistical test such as the Analysis of Variance (ANOVA) test.**"
   ]
  },
  {
   "cell_type": "code",
   "execution_count": null,
   "id": "eadd57c0",
   "metadata": {},
   "outputs": [],
   "source": [
    "from scipy.stats import f_oneway\n",
    "\n",
    "# Perform ANOVA test\n",
    "f_value, p_value = f_oneway(df['Exam 1'], df['Exam 2'], df['Final Exam'])\n",
    "\n",
    "print(\"ANOVA test results:\")\n",
    "print(f\"F-value: {f_value}\")\n",
    "print(f\"P-value: {p_value}\")"
   ]
  },
  {
   "cell_type": "markdown",
   "id": "bac0652d",
   "metadata": {},
   "source": [
    "**as P value >0.05, i.e., we accept the null hypothesis, i.e., the mean scores of all students are the same**"
   ]
  },
  {
   "cell_type": "code",
   "execution_count": null,
   "id": "2bf36274",
   "metadata": {},
   "outputs": [],
   "source": [
    "#max_score = max([df[\"Exam 1\"].max(), df[\"Exam 2\"].max(), df[\"Final Exam\"].max()])"
   ]
  },
  {
   "cell_type": "code",
   "execution_count": null,
   "id": "7d043c28",
   "metadata": {},
   "outputs": [],
   "source": [
    "#student_highest_score = df.loc[df[[\"Exam 1\", \"Exam 2\", 'Final Exam']].max(axis=1) == max_score, 'Name'].values[0]   ##`df.loc[df[[\"Exam 1\", \"Exam 2\", 'Final Exam']].max(axis=1) == max_score, 'Name']`, axis=1 is used to find the maximum value among the columns \"Exam 1\", \"Exam 2\", and \"Final Exam\" for each row."
   ]
  },
  {
   "cell_type": "code",
   "execution_count": null,
   "id": "10a63e69",
   "metadata": {},
   "outputs": [],
   "source": [
    "#student_highest_score"
   ]
  },
  {
   "cell_type": "code",
   "execution_count": null,
   "id": "fd689133",
   "metadata": {},
   "outputs": [],
   "source": [
    "#df.loc[df[[\"Exam 1\", \"Exam 2\", 'Final Exam']].max(axis=1) == max_score, 'Name']"
   ]
  },
  {
   "cell_type": "code",
   "execution_count": null,
   "id": "8987a8de",
   "metadata": {},
   "outputs": [],
   "source": []
  }
 ],
 "metadata": {
  "kernelspec": {
   "display_name": "Python 3 (ipykernel)",
   "language": "python",
   "name": "python3"
  },
  "language_info": {
   "codemirror_mode": {
    "name": "ipython",
    "version": 3
   },
   "file_extension": ".py",
   "mimetype": "text/x-python",
   "name": "python",
   "nbconvert_exporter": "python",
   "pygments_lexer": "ipython3",
   "version": "3.9.12"
  }
 },
 "nbformat": 4,
 "nbformat_minor": 5
}
